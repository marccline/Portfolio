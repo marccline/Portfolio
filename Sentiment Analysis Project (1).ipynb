{
 "cells": [
  {
   "cell_type": "markdown",
   "metadata": {
    "colab_type": "text",
    "id": "eHGm8RQlK46m"
   },
   "source": [
    "# Get and explore dataset"
   ]
  },
  {
   "cell_type": "code",
   "execution_count": 1,
   "metadata": {
    "colab": {},
    "colab_type": "code",
    "id": "-erlYw1jXtgh"
   },
   "outputs": [],
   "source": [
    "import matplotlib.pyplot as plt\n",
    "from matplotlib import pyplot\n",
    "import numpy as np\n",
    "import re"
   ]
  },
  {
   "cell_type": "code",
   "execution_count": 2,
   "metadata": {
    "colab": {},
    "colab_type": "code",
    "id": "goZIhX8nII4T"
   },
   "outputs": [],
   "source": [
    "# Make results reproducible - set random seed\n",
    "from numpy.random import seed\n",
    "seed(42)"
   ]
  },
  {
   "cell_type": "code",
   "execution_count": 3,
   "metadata": {
    "colab": {},
    "colab_type": "code",
    "id": "v_fEysQHII4W",
    "tags": []
   },
   "outputs": [],
   "source": [
    "negative_file = \"negative.txt\"\n",
    "positive_file = \"positive.txt\""
   ]
  },
  {
   "cell_type": "code",
   "execution_count": 4,
   "metadata": {
    "colab": {},
    "colab_type": "code",
    "id": "0rWm4yycII4Y",
    "tags": []
   },
   "outputs": [],
   "source": [
    "# Do not modify - helper function to load and preprocess data\n",
    "def filter_words(line):    \n",
    "    line = re.sub(r'[^\\w\\s]','',line.rstrip())\n",
    "    words = line.split(\" \") \n",
    "    words = [i.lower() for i in words if i]      \n",
    "    return \" \".join(words)\n",
    "\n",
    "def load_data(filename):\n",
    "    thefile = open(filename, 'r') \n",
    "    lines = thefile.readlines() \n",
    "\n",
    "    data = []\n",
    "    for l in range(0,len(lines)): \n",
    "        if(lines[l-1].strip() == \"<title>\"): \n",
    "            theline = filter_words(lines[l])\n",
    "            if(len(theline) < 50):\n",
    "                data.append(theline)            \n",
    "            \n",
    "    return data\n",
    "\n",
    "# Helper function to convert categorical data to class label\n",
    "def to_word_label(y):\n",
    "    y = to_class(y)   \n",
    "    return [\"positive\" if i==0 else \"negative\" for i in y]\n",
    "\n",
    "# Helper function to convert class label to numeric label\n",
    "def to_numeric_label(y):\n",
    "  return [0 if i==\"positive\" else 1 for i in word_labels]\n",
    "\n",
    "# Helper function: this function needs to be called before sending arrays to sklearn metrics,\n",
    "# it converts back to class form from categorical form. ie: [1,0] --> 0, [0,1] --> 1\n",
    "def to_class(y):\n",
    "    return np.argmax(y,axis=1) "
   ]
  },
  {
   "cell_type": "code",
   "execution_count": 5,
   "metadata": {
    "colab": {
     "base_uri": "https://localhost:8080/",
     "height": 70
    },
    "colab_type": "code",
    "id": "jjGUiFm9II4b",
    "outputId": "aa5eb89b-85f2-4d61-f33a-b00361b19a41",
    "tags": []
   },
   "outputs": [
    {
     "name": "stdout",
     "output_type": "stream",
     "text": [
      "['one of the best crichton novels', 'the medicine of the future', 'beautiful', 'for lovers of robicheaux', 'a good book', 'to the point and beautifully illustrated', 'at least somebody has got it', 'beautifully written heartwarming story', 'an excellent cookbook full of delicious recipes', 'an outstanding resource']\n",
      "['horrible book horrible', 'shallow selfindulgence', 'horrible book horrible', 'disappointment', 'a disappointing mess', 'save your money there are better books out there', 'thank you but no thanks', 'unendurable', 'the hard way', 'some good info among the political commercial']\n"
     ]
    }
   ],
   "source": [
    "positive = load_data(positive_file)\n",
    "negative = load_data(negative_file)\n",
    "\n",
    "print(positive[0:10])\n",
    "print(negative[0:10])"
   ]
  },
  {
   "cell_type": "code",
   "execution_count": 6,
   "metadata": {
    "colab": {},
    "colab_type": "code",
    "id": "yrgEYOOCII4d",
    "tags": []
   },
   "outputs": [],
   "source": [
    "# Do not modify - Combines the positive and negative reviews into a single list and create labels\n",
    "data = positive + negative\n",
    "word_labels = [\"positive\"] * len(positive) + [\"negative\"] * len(negative) \n",
    "\n",
    "# Converts labels to numbers in one-hot encoding - [1, 0] (positive) or [0, 1] (negative)\n",
    "\n",
    "from tensorflow.keras import utils as np_utils\n",
    "labels  = np_utils.to_categorical(to_numeric_label(word_labels))\n"
   ]
  },
  {
   "cell_type": "code",
   "execution_count": 49,
   "metadata": {},
   "outputs": [
    {
     "name": "stdout",
     "output_type": "stream",
     "text": [
      "The mean review size of the dataset is 24.676519799219186 characters per review.\n",
      "Standard deviation of dataset is : 11.284051928842775\n"
     ]
    },
    {
     "data": {
      "image/png": "[encoded data removed]",
      "text/plain": [
       "<Figure size 504x288 with 1 Axes>"
      ]
     },
     "metadata": {
      "needs_background": "light"
     },
     "output_type": "display_data"
    },
    {
     "name": "stdout",
     "output_type": "stream",
     "text": [
      "The number of unique words in the dataset is 1676 words.\n"
     ]
    }
   ],
   "source": [
    "# Write some code to investigate the dataset. \n",
    "# - Calculate and report the mean review size, its standard deviation and create a boxplot.\n",
    "# - Calculate the number of unique words in the dataset\n",
    "# - Perform any other dataset investigation that you feel would be valuable\n",
    "\n",
    "# **********************************************************************************************\n",
    "\n",
    "# - Calculate and report the mean review size\n",
    "\n",
    "# Determine total characters make up each string\n",
    "c = [len(i) for i in data]\n",
    "mean = sum(c) / len(c)\n",
    "print(\"The mean review size of the dataset is\", mean, \"characters per review.\")\n",
    "\n",
    "# - Calculate and report standard deviation\n",
    "variance = sum([((x - mean) ** 2) for x in c]) / len(c)\n",
    "res = variance ** 0.5\n",
    "print(\"Standard deviation of dataset is : \" + str(res))\n",
    "\n",
    "# - Create boxplot\n",
    "fig = plt.figure(figsize =(7, 4))\n",
    "\n",
    "# Creating plot\n",
    "plt.boxplot(c)\n",
    "# show plot\n",
    "plt.show()\n",
    "\n",
    "# Calculate no. unique words. \n",
    "unique = set(data)\n",
    "no_unique_words = len(unique)\n",
    "print(\"The number of unique words in the dataset is\",no_unique_words, \"words.\")\n"
   ]
  },
  {
   "cell_type": "code",
   "execution_count": 50,
   "metadata": {
    "colab": {
     "base_uri": "https://localhost:8080/",
     "height": 50
    },
    "colab_type": "code",
    "id": "_XXnArgcII4i",
    "outputId": "020b2ee2-4c2a-4bc0-bb55-e2ae3841fe57",
    "tags": []
   },
   "outputs": [
    {
     "name": "stdout",
     "output_type": "stream",
     "text": [
      "['eye opening information', 'a gem', 'the best book on money ive ever read', 'funny sexy sweet poignant', 'one of koontzs better books', 'absolutely fantastic', 'possible side effects a burroughs', 'a dream a vision the west incarnate', 'loved it', 'as expected']\n",
      "[[], [1], [2, 19, 3, 23, 14], [], [18, 4], [], [1], [1, 1, 2], [13], []]\n"
     ]
    }
   ],
   "source": [
    "# Do not modify - Tokenize the vocabulary \n",
    "from keras.preprocessing.text import Tokenizer\n",
    "\n",
    "tokenizer = Tokenizer(num_words=25)\n",
    "\n",
    "tokenizer.fit_on_texts(data) #create the vocabularry\n",
    "\n",
    "tokenized_data = tokenizer.texts_to_sequences(data) #tokenize the data using the vocabulary\n",
    "\n",
    "vocab_size = len(tokenizer.word_index) + 1 \n",
    "\n",
    "# Compare a sample of the data before and after tokenization\n",
    "print(data[10:20])\n",
    "print(tokenized_data[10:20])"
   ]
  },
  {
   "cell_type": "markdown",
   "metadata": {
    "colab_type": "text",
    "id": "_vsMmLjdK1Gf"
   },
   "source": [
    "# Pre-processing"
   ]
  },
  {
   "cell_type": "code",
   "execution_count": 51,
   "metadata": {},
   "outputs": [
    {
     "name": "stdout",
     "output_type": "stream",
     "text": [
      "[[18  4  2 19]\n",
      " [ 2  4  2  0]\n",
      " [ 0  0  0  0]\n",
      " ...\n",
      " [ 0  0  0  0]\n",
      " [ 6  0  0  0]\n",
      " [ 0  0  0  0]]\n"
     ]
    }
   ],
   "source": [
    "# Pre-processing\n",
    "# Write some code to pre-process the data so that each review is the same length\n",
    "\n",
    "import tensorflow as tf\n",
    "from tensorflow import keras\n",
    "from tensorflow.keras.preprocessing.sequence import pad_sequences\n",
    "\n",
    "# Pad the training sequences\n",
    "pad_type = 'post'\n",
    "trunc_type = 'post'\n",
    "train_padded = pad_sequences(tokenized_data, padding=pad_type, truncating=trunc_type, maxlen=4)\n",
    "\n",
    "print(train_padded)"
   ]
  },
  {
   "cell_type": "code",
   "execution_count": 52,
   "metadata": {
    "colab": {},
    "colab_type": "code",
    "id": "AFTJcFy6II4s",
    "tags": []
   },
   "outputs": [],
   "source": [
    "# Write some code to split the data into a training and test set. Make sure you shuffle the data. Use 20% for the test set.\n",
    "\n",
    "from sklearn.model_selection import train_test_split\n",
    "X_train, X_test, y_train, y_test = train_test_split(train_padded, \n",
    "                labels, test_size=0.20, shuffle = True, random_state = 0)\n",
    "\n"
   ]
  },
  {
   "cell_type": "code",
   "execution_count": 53,
   "metadata": {
    "colab": {
     "base_uri": "https://localhost:8080/",
     "height": 128
    },
    "colab_type": "code",
    "id": "lDth1BSzII4u",
    "outputId": "4614049a-7151-4407-9bc8-54604bbe7fdd"
   },
   "outputs": [],
   "source": [
    "# Fill in the following function so it\n",
    "# - makes a prediction for the test set given the model\n",
    "# - reports the precision, recall and f1 score. Also print the confusion matrix. \n",
    "# You will need to use the helper to_class function to convert y_pred and y_test before supplying them to the sklearn functions.\n",
    "\n",
    "from sklearn.metrics import multilabel_confusion_matrix\n",
    "from sklearn.metrics import precision_recall_fscore_support as score\n",
    "from sklearn.metrics import classification_report\n",
    "\n",
    "def assess_model(model, X_test, y_test):     \n",
    "    \n",
    "    # Make a prediction for the test set given the model\n",
    "    y_pred = model.predict(X_test)\n",
    "       \n",
    "    # Convert back to class form from categorical form.\n",
    "\n",
    "    y_pred = to_class(y_pred)\n",
    "    y_test = to_class(y_test)\n",
    "    \n",
    "    # Calculate precision, recall and f1-score.\n",
    "    print(classification_report(y_test, y_pred))\n",
    "\n",
    "    # Get multilabel Confusion Matrix\n",
    "    mcm = multilabel_confusion_matrix(y_test, y_pred, labels = y_test)\n",
    "    print(\"\\nCONFUSION MATRIX:\\n\", mcm)  \n",
    "   \n"
   ]
  },
  {
   "cell_type": "markdown",
   "metadata": {
    "colab_type": "text",
    "id": "nTqLbbE6MpGt"
   },
   "source": [
    "# Build and tune model"
   ]
  },
  {
   "cell_type": "markdown",
   "metadata": {
    "colab_type": "text",
    "id": "3X70rA4uMXNv"
   },
   "source": [
    "Define network architecture"
   ]
  },
  {
   "cell_type": "code",
   "execution_count": 54,
   "metadata": {
    "colab": {},
    "colab_type": "code",
    "id": "wKoXWKG4II5F"
   },
   "outputs": [],
   "source": [
    "from keras.models import Sequential\n",
    "from tensorflow.keras.layers import BatchNormalization\n",
    "from keras.layers import LSTM, Dense, Dropout\n",
    "from sklearn.preprocessing import MinMaxScaler\n",
    "\n",
    "# Create a sequential model\n",
    "model = Sequential()\n",
    "\n",
    "# Create a embedding layer\n",
    "model.add(tf.keras.layers.Embedding(5000, 20, input_length=4))\n",
    "\n",
    "# Create SpacialDropout layer\n",
    "model.add(tf.keras.layers.SpatialDropout1D(0.2))\n",
    "\n",
    "# Create Batch Normaliszation layer\n",
    "model.add(BatchNormalization())\n",
    "\n",
    "# Create a LSTM layer\n",
    "look_back = 1\n",
    "model.add(LSTM(32,input_shape=(1,look_back)))  \n",
    "\n",
    "# Create a Dense layer\n",
    "model.add(Dense(2, activation = 'softmax')) \n"
   ]
  },
  {
   "cell_type": "markdown",
   "metadata": {
    "colab_type": "text",
    "id": "llS0-VKBMbz-"
   },
   "source": [
    "Train model "
   ]
  },
  {
   "cell_type": "code",
   "execution_count": 55,
   "metadata": {
    "colab": {},
    "colab_type": "code",
    "id": "F5IJs0QuMe_I"
   },
   "outputs": [
    {
     "name": "stdout",
     "output_type": "stream",
     "text": [
      "BATCH SIZE =  10\n",
      "Epoch 1/5\n",
      "144/144 [==============================] - 8s 17ms/step - loss: 0.6853 - accuracy: 0.5593 - val_loss: 0.6888 - val_accuracy: 0.5460\n",
      "Epoch 2/5\n",
      "144/144 [==============================] - 1s 10ms/step - loss: 0.6622 - accuracy: 0.6067 - val_loss: 0.6744 - val_accuracy: 0.5877\n",
      "Epoch 3/5\n",
      "144/144 [==============================] - 1s 10ms/step - loss: 0.6474 - accuracy: 0.6004 - val_loss: 0.6578 - val_accuracy: 0.5877\n",
      "Epoch 4/5\n",
      "144/144 [==============================] - 2s 13ms/step - loss: 0.6417 - accuracy: 0.6172 - val_loss: 0.6504 - val_accuracy: 0.6128\n",
      "Epoch 5/5\n",
      "144/144 [==============================] - 2s 11ms/step - loss: 0.6369 - accuracy: 0.6185 - val_loss: 0.6548 - val_accuracy: 0.6017\n",
      "**************************************************************************************************\n",
      "BATCH SIZE =  25\n",
      "Epoch 1/5\n",
      "58/58 [==============================] - 9s 45ms/step - loss: 0.6328 - accuracy: 0.6102 - val_loss: 0.6560 - val_accuracy: 0.6128\n",
      "Epoch 2/5\n",
      "58/58 [==============================] - 1s 16ms/step - loss: 0.6286 - accuracy: 0.6276 - val_loss: 0.6523 - val_accuracy: 0.6156\n",
      "Epoch 3/5\n",
      "58/58 [==============================] - 1s 17ms/step - loss: 0.6243 - accuracy: 0.6339 - val_loss: 0.6527 - val_accuracy: 0.6128\n",
      "Epoch 4/5\n",
      "58/58 [==============================] - 1s 15ms/step - loss: 0.6227 - accuracy: 0.6360 - val_loss: 0.6566 - val_accuracy: 0.6156\n",
      "Epoch 5/5\n",
      "58/58 [==============================] - 1s 15ms/step - loss: 0.6217 - accuracy: 0.6346 - val_loss: 0.6528 - val_accuracy: 0.6100\n",
      "**************************************************************************************************\n",
      "BATCH SIZE =  50\n",
      "Epoch 1/5\n",
      "29/29 [==============================] - 13s 64ms/step - loss: 0.6180 - accuracy: 0.6269 - val_loss: 0.6535 - val_accuracy: 0.5961\n",
      "Epoch 2/5\n",
      "29/29 [==============================] - 0s 9ms/step - loss: 0.6148 - accuracy: 0.6367 - val_loss: 0.6554 - val_accuracy: 0.6156\n",
      "Epoch 3/5\n",
      "29/29 [==============================] - 0s 10ms/step - loss: 0.6141 - accuracy: 0.6304 - val_loss: 0.6550 - val_accuracy: 0.6100\n",
      "Epoch 4/5\n",
      "29/29 [==============================] - 0s 11ms/step - loss: 0.6099 - accuracy: 0.6457 - val_loss: 0.6612 - val_accuracy: 0.6128\n",
      "Epoch 5/5\n",
      "29/29 [==============================] - 0s 14ms/step - loss: 0.6113 - accuracy: 0.6457 - val_loss: 0.6559 - val_accuracy: 0.6184\n",
      "**************************************************************************************************\n",
      "BATCH SIZE =  100\n",
      "Epoch 1/5\n",
      "15/15 [==============================] - 7s 109ms/step - loss: 0.6089 - accuracy: 0.6276 - val_loss: 0.6560 - val_accuracy: 0.6212\n",
      "Epoch 2/5\n",
      "15/15 [==============================] - 0s 12ms/step - loss: 0.6068 - accuracy: 0.6527 - val_loss: 0.6556 - val_accuracy: 0.6156\n",
      "Epoch 3/5\n",
      "15/15 [==============================] - 0s 12ms/step - loss: 0.6055 - accuracy: 0.6423 - val_loss: 0.6583 - val_accuracy: 0.6156\n",
      "Epoch 4/5\n",
      "15/15 [==============================] - 0s 12ms/step - loss: 0.6064 - accuracy: 0.6437 - val_loss: 0.6619 - val_accuracy: 0.6184\n",
      "Epoch 5/5\n",
      "15/15 [==============================] - 0s 17ms/step - loss: 0.6046 - accuracy: 0.6485 - val_loss: 0.6606 - val_accuracy: 0.6100\n",
      "**************************************************************************************************\n"
     ]
    }
   ],
   "source": [
    "# Loop various batch sizes and get accuracy/loss values. \n",
    "batch_size_list = [10,25,50,100]\n",
    "\n",
    "for i in (batch_size_list):\n",
    "    # Train\n",
    "    print(\"BATCH SIZE = \", i)\n",
    "    model.compile(loss='binary_crossentropy',optimizer='adam', metrics=['accuracy'])\n",
    "    model.fit(X_train, y_train, validation_data = (X_test,y_test), epochs = 5, batch_size = i, shuffle = True)\n",
    "    print(\"**************************************************************************************************\")\n"
   ]
  },
  {
   "cell_type": "markdown",
   "metadata": {
    "colab_type": "text",
    "id": "rniBBEiyMRKD"
   },
   "source": [
    "Examine performance of model"
   ]
  },
  {
   "cell_type": "code",
   "execution_count": 58,
   "metadata": {
    "colab": {},
    "colab_type": "code",
    "id": "eBVogHg2II5T",
    "tags": []
   },
   "outputs": [
    {
     "name": "stdout",
     "output_type": "stream",
     "text": [
      "\n",
      "Evaluate on test data:\n",
      "\n",
      "8/8 [==============================] - 0s 5ms/step - loss: 0.6606 - accuracy: 0.6100\n",
      "\n",
      "test loss, test acc: [0.6606348156929016, 0.6100278496742249]\n",
      "\n",
      "************************************************************************************************************\n",
      "\n",
      "Model: \"sequential_1\"\n",
      "_________________________________________________________________\n",
      " Layer (type)                Output Shape              Param #   \n",
      "=================================================================\n",
      " embedding_1 (Embedding)     (None, 4, 20)             100000    \n",
      "                                                                 \n",
      " spatial_dropout1d_1 (Spatia  (None, 4, 20)            0         \n",
      " lDropout1D)                                                     \n",
      "                                                                 \n",
      " batch_normalization_1 (Batc  (None, 4, 20)            80        \n",
      " hNormalization)                                                 \n",
      "                                                                 \n",
      " lstm_1 (LSTM)               (None, 32)                6784      \n",
      "                                                                 \n",
      " dense_1 (Dense)             (None, 2)                 66        \n",
      "                                                                 \n",
      "=================================================================\n",
      "Total params: 106,930\n",
      "Trainable params: 106,890\n",
      "Non-trainable params: 40\n",
      "_________________________________________________________________\n",
      "              precision    recall  f1-score   support\n",
      "\n",
      "           0       0.64      0.50      0.56       178\n",
      "           1       0.59      0.72      0.65       181\n",
      "\n",
      "    accuracy                           0.61       359\n",
      "   macro avg       0.61      0.61      0.60       359\n",
      "weighted avg       0.61      0.61      0.61       359\n",
      "\n",
      "\n",
      "CONFUSION MATRIX:\n",
      " [[[130  51]\n",
      "  [ 89  89]]\n",
      "\n",
      " [[130  51]\n",
      "  [ 89  89]]\n",
      "\n",
      " [[ 89  89]\n",
      "  [ 51 130]]\n",
      "\n",
      " ...\n",
      "\n",
      " [[130  51]\n",
      "  [ 89  89]]\n",
      "\n",
      " [[ 89  89]\n",
      "  [ 51 130]]\n",
      "\n",
      " [[130  51]\n",
      "  [ 89  89]]]\n",
      "None\n"
     ]
    }
   ],
   "source": [
    "batch_size = 50\n",
    "\n",
    "# Evaluate the model on the test data using `evaluate`\n",
    "print(\"\\nEvaluate on test data:\\n\")\n",
    "results = model.evaluate(X_test, y_test, batch_size=batch_size)\n",
    "print(\"\\ntest loss, test acc:\", results)\n",
    "print(\"\\n************************************************************************************************************\\n\")\n",
    "    \n",
    "model.summary()\n",
    "\n",
    "# Print out metrics.\n",
    "performance_metr = assess_model(model, X_test, y_test) \n",
    "print(performance_metr)\n",
    "\n"
   ]
  },
  {
   "cell_type": "markdown",
   "metadata": {
    "colab_type": "text",
    "id": "HB8kzt-IME4U"
   },
   "source": [
    "Plot graphs for accuracy and loss"
   ]
  },
  {
   "cell_type": "code",
   "execution_count": 48,
   "metadata": {
    "colab": {},
    "colab_type": "code",
    "id": "hPyJ78unMJUI"
   },
   "outputs": [
    {
     "data": {
      "image/png": "[encoded data removed]",
      "text/plain": [
       "<Figure size 432x288 with 1 Axes>"
      ]
     },
     "metadata": {
      "needs_background": "light"
     },
     "output_type": "display_data"
    },
    {
     "data": {
      "image/png": "[encoded data removed]",
      "text/plain": [
       "<Figure size 432x288 with 1 Axes>"
      ]
     },
     "metadata": {
      "needs_background": "light"
     },
     "output_type": "display_data"
    }
   ],
   "source": [
    "from keras.callbacks import History \n",
    "\n",
    "# summarize history for accuracy\n",
    "plt.plot(history.history['accuracy'])\n",
    "plt.plot(history.history['val_accuracy'])\n",
    "plt.title('model accuracy')\n",
    "plt.ylabel('accuracy')\n",
    "plt.xlabel('epoch')\n",
    "plt.legend(['train', 'test'], loc='upper left')\n",
    "plt.show()\n",
    "\n",
    "# summarize history for loss\n",
    "plt.plot(history.history['loss'])\n",
    "plt.plot(history.history['val_loss'])\n",
    "plt.title('model loss')\n",
    "plt.ylabel('loss')\n",
    "plt.xlabel('epoch')\n",
    "plt.legend(['train', 'test'], loc='upper left')\n",
    "plt.show()\n"
   ]
  },
  {
   "cell_type": "markdown",
   "metadata": {
    "colab_type": "text",
    "id": "eAZ1LyFBMLoK"
   },
   "source": [
    "# Make a prediction"
   ]
  },
  {
   "cell_type": "code",
   "execution_count": null,
   "metadata": {
    "colab": {},
    "colab_type": "code",
    "id": "vfPM5LokII5V",
    "tags": []
   },
   "outputs": [],
   "source": [
    "# This is a very small set of completed new data to use to make predictions.\n",
    "prediction_data = [\"this book is fabulous\",\"i hated this book\", \"the best\", \"no good\", \"okay\"]\n",
    "tokenized = tokenizer.texts_to_sequences(prediction_data)\n",
    "padded = pad_sequences(tokenized, padding='post',maxlen=4)\n",
    "\n",
    "# Supply this data to each of your models and see how it does. \n",
    "# You can call the helper function \"to_word_label\" to map the output of the model to the name of the\n",
    "# class it was predicted to belong to.\n",
    "\n",
    "\n",
    "# Converts labels to numbers in one-hot encoding - [1, 0] (positive) or [0, 1] (negative)\n",
    "predict_labels  = np_utils.to_categorical(to_numeric_label(prediction_data))\n",
    "predict = to_word_label(predict_labels)\n",
    "\n",
    "predictions = model.predict(predict)\n",
    "print(predictions)\n",
    "\n"
   ]
  },
  {
   "cell_type": "markdown",
   "metadata": {},
   "source": [
    "# SOURCES\n",
    "https://stackoverflow.com/questions/33726361/counting-the-number-of-unique-words-in-a-list\n",
    "https://www.geeksforgeeks.org/find-length-of-a-string-in-python-4-ways/\n",
    "https://www.geeksforgeeks.org/python-standard-deviation-of-list/\n",
    "https://stackoverflow.com/questions/18413456/python-3-3-2-creating-a-list-of-the-length-of-words\n",
    "https://www.geeksforgeeks.org/box-plot-in-python-using-matplotlib/\n",
    "https://keras.io/api/preprocessing/timeseries/\n",
    "https://machinelearningmastery.com/display-deep-learning-model-training-history-in-keras/\n",
    "https://python-data-science.readthedocs.io/en/latest/sl-deeplearning.html\n",
    "https://stackoverflow.com/questions/41908379/keras-plot-training-validation-and-test-set-accuracy\n",
    "https://stackoverflow.com/questions/47633789/keras-history-not-accessible-for-loss-or-accuracy"
   ]
  }
 ],
 "metadata": {
  "colab": {
   "collapsed_sections": [],
   "name": "L3T20.ipynb",
   "provenance": []
  },
  "kernelspec": {
   "display_name": "Python 3 (ipykernel)",
   "language": "python",
   "name": "python3"
  },
  "language_info": {
   "codemirror_mode": {
    "name": "ipython",
    "version": 3
   },
   "file_extension": ".py",
   "mimetype": "text/x-python",
   "name": "python",
   "nbconvert_exporter": "python",
   "pygments_lexer": "ipython3",
   "version": "3.8.8"
  }
 },
 "nbformat": 4,
 "nbformat_minor": 1
}
