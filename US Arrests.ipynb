{
 "cells": [
  {
   "cell_type": "code",
   "execution_count": 1,
   "id": "c8b0f2a1",
   "metadata": {},
   "outputs": [],
   "source": [
    "import numpy as np\n",
    "import pandas as pd  \n",
    "import matplotlib.pyplot as plt\n",
    "import seaborn as sns\n",
    "%matplotlib inline\n",
    "\n",
    "from sklearn.model_selection import train_test_split\n",
    "from sklearn.preprocessing import StandardScaler\n",
    "from sklearn.preprocessing import MinMaxScaler\n",
    "from sklearn.decomposition import PCA\n",
    "from sklearn.preprocessing import LabelEncoder\n",
    "from sklearn.cluster import AgglomerativeClustering\n",
    "from sklearn.metrics import accuracy_score, silhouette_score\n",
    "from sklearn.cluster import KMeans\n",
    "from sklearn import decomposition\n",
    "from sklearn import datasets\n",
    "from sklearn import metrics\n",
    "\n",
    "from scipy.cluster.hierarchy import dendrogram, linkage \n",
    "from bioinfokit.visuz import cluster\n",
    "from bioinfokit.analys import get_data\n",
    "\n",
    "# Load data\n",
    "df = pd.read_csv('UsArrests.csv',index_col=0)\n",
    "\n",
    "temp_df = df.copy()\n",
    "\n",
    "# Enable seeing entire dataset in output.\n",
    "pd.set_option(\"display.max_rows\", None, \"display.max_columns\", None)"
   ]
  },
  {
   "cell_type": "markdown",
   "id": "7b5e8fff",
   "metadata": {},
   "source": [
    "# PRE PROCESSING"
   ]
  },
  {
   "cell_type": "code",
   "execution_count": 13,
   "id": "ae1859cb",
   "metadata": {},
   "outputs": [
    {
     "data": {
      "text/plain": [
       "Murder      0\n",
       "Assault     0\n",
       "UrbanPop    0\n",
       "Rape        0\n",
       "dtype: int64"
      ]
     },
     "execution_count": 13,
     "metadata": {},
     "output_type": "execute_result"
    }
   ],
   "source": [
    "# Check for any NaN values.\n",
    "missing_values_count = temp_df.isnull().sum()\n",
    "missing_values_count[::]\n",
    "\n",
    "# There are no missing values. "
   ]
  },
  {
   "cell_type": "code",
   "execution_count": 3,
   "id": "c350b9da",
   "metadata": {},
   "outputs": [
    {
     "data": {
      "text/html": [
       "<div>\n",
       "<style scoped>\n",
       "    .dataframe tbody tr th:only-of-type {\n",
       "        vertical-align: middle;\n",
       "    }\n",
       "\n",
       "    .dataframe tbody tr th {\n",
       "        vertical-align: top;\n",
       "    }\n",
       "\n",
       "    .dataframe thead th {\n",
       "        text-align: right;\n",
       "    }\n",
       "</style>\n",
       "<table border=\"1\" class=\"dataframe\">\n",
       "  <thead>\n",
       "    <tr style=\"text-align: right;\">\n",
       "      <th></th>\n",
       "      <th>Murder</th>\n",
       "      <th>Assault</th>\n",
       "      <th>UrbanPop</th>\n",
       "      <th>Rape</th>\n",
       "    </tr>\n",
       "  </thead>\n",
       "  <tbody>\n",
       "    <tr>\n",
       "      <th>count</th>\n",
       "      <td>50.00000</td>\n",
       "      <td>50.000000</td>\n",
       "      <td>50.000000</td>\n",
       "      <td>50.000000</td>\n",
       "    </tr>\n",
       "    <tr>\n",
       "      <th>mean</th>\n",
       "      <td>7.78800</td>\n",
       "      <td>170.760000</td>\n",
       "      <td>65.540000</td>\n",
       "      <td>21.232000</td>\n",
       "    </tr>\n",
       "    <tr>\n",
       "      <th>std</th>\n",
       "      <td>4.35551</td>\n",
       "      <td>83.337661</td>\n",
       "      <td>14.474763</td>\n",
       "      <td>9.366385</td>\n",
       "    </tr>\n",
       "    <tr>\n",
       "      <th>min</th>\n",
       "      <td>0.80000</td>\n",
       "      <td>45.000000</td>\n",
       "      <td>32.000000</td>\n",
       "      <td>7.300000</td>\n",
       "    </tr>\n",
       "    <tr>\n",
       "      <th>25%</th>\n",
       "      <td>4.07500</td>\n",
       "      <td>109.000000</td>\n",
       "      <td>54.500000</td>\n",
       "      <td>15.075000</td>\n",
       "    </tr>\n",
       "    <tr>\n",
       "      <th>50%</th>\n",
       "      <td>7.25000</td>\n",
       "      <td>159.000000</td>\n",
       "      <td>66.000000</td>\n",
       "      <td>20.100000</td>\n",
       "    </tr>\n",
       "    <tr>\n",
       "      <th>75%</th>\n",
       "      <td>11.25000</td>\n",
       "      <td>249.000000</td>\n",
       "      <td>77.750000</td>\n",
       "      <td>26.175000</td>\n",
       "    </tr>\n",
       "    <tr>\n",
       "      <th>max</th>\n",
       "      <td>17.40000</td>\n",
       "      <td>337.000000</td>\n",
       "      <td>91.000000</td>\n",
       "      <td>46.000000</td>\n",
       "    </tr>\n",
       "  </tbody>\n",
       "</table>\n",
       "</div>"
      ],
      "text/plain": [
       "         Murder     Assault   UrbanPop       Rape\n",
       "count  50.00000   50.000000  50.000000  50.000000\n",
       "mean    7.78800  170.760000  65.540000  21.232000\n",
       "std     4.35551   83.337661  14.474763   9.366385\n",
       "min     0.80000   45.000000  32.000000   7.300000\n",
       "25%     4.07500  109.000000  54.500000  15.075000\n",
       "50%     7.25000  159.000000  66.000000  20.100000\n",
       "75%    11.25000  249.000000  77.750000  26.175000\n",
       "max    17.40000  337.000000  91.000000  46.000000"
      ]
     },
     "execution_count": 3,
     "metadata": {},
     "output_type": "execute_result"
    }
   ],
   "source": [
    "# Get initial idea of general stats. \n",
    "temp_df.describe()"
   ]
  },
  {
   "cell_type": "markdown",
   "id": "f51c0413",
   "metadata": {},
   "source": [
    "### COMMENT/ANALYSIS\n",
    "From the stats, we can see that Assault has by far the highest mean of arrests/100 000 residents (170.76) with Rape far behind with 21,23 arrests/100 000. Furthermore, Assault has the highest Min value(45/100 000) and the highest max value (337/100 000). \n",
    "\n",
    "Max value for Assault is 337.0, which is a much bigger value than the rest of the values. Scaling is required."
   ]
  },
  {
   "cell_type": "markdown",
   "id": "2623c4f4",
   "metadata": {},
   "source": [
    "### STANDARDIZE DATA"
   ]
  },
  {
   "cell_type": "code",
   "execution_count": 4,
   "id": "fe31b919",
   "metadata": {},
   "outputs": [
    {
     "data": {
      "text/html": [
       "<div>\n",
       "<style scoped>\n",
       "    .dataframe tbody tr th:only-of-type {\n",
       "        vertical-align: middle;\n",
       "    }\n",
       "\n",
       "    .dataframe tbody tr th {\n",
       "        vertical-align: top;\n",
       "    }\n",
       "\n",
       "    .dataframe thead th {\n",
       "        text-align: right;\n",
       "    }\n",
       "</style>\n",
       "<table border=\"1\" class=\"dataframe\">\n",
       "  <thead>\n",
       "    <tr style=\"text-align: right;\">\n",
       "      <th></th>\n",
       "      <th>Murder</th>\n",
       "      <th>Assault</th>\n",
       "      <th>UrbanPop</th>\n",
       "      <th>Rape</th>\n",
       "    </tr>\n",
       "  </thead>\n",
       "  <tbody>\n",
       "    <tr>\n",
       "      <th>0</th>\n",
       "      <td>1.255179</td>\n",
       "      <td>0.790787</td>\n",
       "      <td>-0.526195</td>\n",
       "      <td>-0.003451</td>\n",
       "    </tr>\n",
       "    <tr>\n",
       "      <th>1</th>\n",
       "      <td>0.513019</td>\n",
       "      <td>1.118060</td>\n",
       "      <td>-1.224067</td>\n",
       "      <td>2.509424</td>\n",
       "    </tr>\n",
       "    <tr>\n",
       "      <th>2</th>\n",
       "      <td>0.072361</td>\n",
       "      <td>1.493817</td>\n",
       "      <td>1.009122</td>\n",
       "      <td>1.053466</td>\n",
       "    </tr>\n",
       "    <tr>\n",
       "      <th>3</th>\n",
       "      <td>0.234708</td>\n",
       "      <td>0.233212</td>\n",
       "      <td>-1.084492</td>\n",
       "      <td>-0.186794</td>\n",
       "    </tr>\n",
       "    <tr>\n",
       "      <th>4</th>\n",
       "      <td>0.281093</td>\n",
       "      <td>1.275635</td>\n",
       "      <td>1.776781</td>\n",
       "      <td>2.088814</td>\n",
       "    </tr>\n",
       "  </tbody>\n",
       "</table>\n",
       "</div>"
      ],
      "text/plain": [
       "     Murder   Assault  UrbanPop      Rape\n",
       "0  1.255179  0.790787 -0.526195 -0.003451\n",
       "1  0.513019  1.118060 -1.224067  2.509424\n",
       "2  0.072361  1.493817  1.009122  1.053466\n",
       "3  0.234708  0.233212 -1.084492 -0.186794\n",
       "4  0.281093  1.275635  1.776781  2.088814"
      ]
     },
     "execution_count": 4,
     "metadata": {},
     "output_type": "execute_result"
    }
   ],
   "source": [
    "temp_df = df.copy()\n",
    "temp_df_st =  StandardScaler().fit_transform(temp_df) \n",
    "X = StandardScaler().fit_transform(temp_df.values) \n",
    "\n",
    "# Check that standardization has been successfully done. \n",
    "pd.DataFrame(temp_df_st, columns=temp_df.columns).head(5)"
   ]
  },
  {
   "cell_type": "markdown",
   "id": "c0d0d8c5",
   "metadata": {},
   "source": [
    "# PCA"
   ]
  },
  {
   "cell_type": "markdown",
   "id": "7e4d0af3",
   "metadata": {},
   "source": [
    "##### (1) PRE-PCA HEATMAP"
   ]
  },
  {
   "cell_type": "code",
   "execution_count": 5,
   "id": "eaf358a6",
   "metadata": {},
   "outputs": [
    {
     "data": {
      "image/png": "[encoded data removed]",
      "text/plain": [
       "<Figure size 576x576 with 2 Axes>"
      ]
     },
     "metadata": {
      "needs_background": "light"
     },
     "output_type": "display_data"
    }
   ],
   "source": [
    "# Create a plot of the data using all features to show the positive and negative correlations between them.\n",
    "colormap = sns.diverging_palette(220, 10, as_cmap=True)\n",
    "\n",
    "def corr_heatmap(temp_df_st):\n",
    "  # get correlations\n",
    "  corrs = temp_df.corr()\n",
    "\n",
    "  # pick appropriate palette for heatmap\n",
    "\n",
    "  # Plot figsize\n",
    "  fig, ax = plt.subplots(figsize=(8, 8))\n",
    "\n",
    "  # to mask mirrored side of heatmap\n",
    "  dropSelf = np.zeros_like(corrs)\n",
    "  dropSelf[np.triu_indices_from(dropSelf)] = True\n",
    "\n",
    "  # Generate Heat Map, with annotations of the correlation strength and 2-decimal floats\n",
    "  ax = sns.heatmap(corrs, cmap=colormap, annot=True, fmt=\".2f\", mask=dropSelf, linewidth=2)\n",
    "\n",
    "  plt.show()\n",
    "\n",
    "corr_heatmap(temp_df_st)"
   ]
  },
  {
   "cell_type": "markdown",
   "id": "f4e3d115",
   "metadata": {},
   "source": [
    "##### (2) BIPLOT & HEATMAP"
   ]
  },
  {
   "cell_type": "code",
   "execution_count": 6,
   "id": "a061743e",
   "metadata": {},
   "outputs": [
    {
     "data": {
      "image/png": "[encoded data removed]",
      "text/plain": [
       "<Figure size 432x288 with 1 Axes>"
      ]
     },
     "metadata": {
      "needs_background": "light"
     },
     "output_type": "display_data"
    }
   ],
   "source": [
    "# Perform PCA-get PC scores\n",
    "pca_out = PCA().fit(temp_df_st)\n",
    "loadings = pca_out.components_\n",
    "pca_scores = PCA().fit_transform(temp_df_st)\n",
    "\n",
    "# get 2D biplot\n",
    "cluster.biplot(cscore=pca_scores, loadings=loadings, labels=temp_df.columns.values, var1=round(pca_out.explained_variance_ratio_[0]*100, 2),\n",
    "    var2=round(pca_out.explained_variance_ratio_[1]*100, 2),show=True)\n"
   ]
  },
  {
   "cell_type": "markdown",
   "id": "f2d1e6b5",
   "metadata": {},
   "source": [
    "##### (3) SCREE PLOT"
   ]
  },
  {
   "cell_type": "code",
   "execution_count": 7,
   "id": "4d00b551",
   "metadata": {},
   "outputs": [
    {
     "data": {
      "text/plain": [
       "Text(0, 0.5, 'cumulative explained variance')"
      ]
     },
     "execution_count": 7,
     "metadata": {},
     "output_type": "execute_result"
    },
    {
     "data": {
      "image/png": "[encoded data removed]",
      "text/plain": [
       "<Figure size 432x288 with 1 Axes>"
      ]
     },
     "metadata": {
      "needs_background": "light"
     },
     "output_type": "display_data"
    }
   ],
   "source": [
    "plt.plot(np.cumsum(pca_out.explained_variance_ratio_))\n",
    "plt.xlabel('number of components')\n",
    "plt.ylabel('cumulative explained variance')"
   ]
  },
  {
   "cell_type": "markdown",
   "id": "3a49edbe",
   "metadata": {},
   "source": [
    "##### (4) EIGENVALUES AND CUMULATIVE EXPLAINED VARIANCE/NO. OF COMPONENTS"
   ]
  },
  {
   "cell_type": "code",
   "execution_count": 8,
   "id": "dc4b4814",
   "metadata": {},
   "outputs": [
    {
     "name": "stdout",
     "output_type": "stream",
     "text": [
      "Eigenvalues-Explained variance:  [2.53085875 1.00996444 0.36383998 0.17696948]\n"
     ]
    }
   ],
   "source": [
    "# Get eigenvalues (variance explained by each PC)  \n",
    "explained_variance = pca_out.explained_variance_\n",
    "print(\"Eigenvalues-Explained variance: \",explained_variance)"
   ]
  },
  {
   "cell_type": "markdown",
   "id": "8434a98b",
   "metadata": {},
   "source": [
    "##### (5) Primary Component Analysis"
   ]
  },
  {
   "cell_type": "code",
   "execution_count": 12,
   "id": "9d9c9be5",
   "metadata": {},
   "outputs": [
    {
     "name": "stdout",
     "output_type": "stream",
     "text": [
      "Porportion of variance:  [0.62006039 0.24744129 0.0891408  0.04335752]\n",
      "\n",
      "Cumulative variance:  [0.62006039 0.86750168 0.95664248 1.        ]\n"
     ]
    },
    {
     "data": {
      "image/png": "[encoded data removed]",
      "text/plain": [
       "<Figure size 432x288 with 2 Axes>"
      ]
     },
     "metadata": {
      "needs_background": "light"
     },
     "output_type": "display_data"
    }
   ],
   "source": [
    "# Get the component variance.\n",
    "# Proportion of Variance (from Primary Component 1 - Primary Component 4).\n",
    "prop_var = pca_out.explained_variance_ratio_\n",
    "print(\"Porportion of variance: \",prop_var)\n",
    "\n",
    "# Cumulative proportion of variance (from Primary Component 1 - Primary Component 4).  \n",
    "cum_var = np.cumsum(pca_out.explained_variance_ratio_)\n",
    "print(\"\\nCumulative variance: \",cum_var)\n",
    "\n",
    "# Create heatmap matrix with correlations of Primary Components and the columns. \n",
    "loadings = pca_out.components_\n",
    "num_pc = pca_out.n_features_\n",
    "pc_list = [\"PC\"+str(i) for i in list(range(1, num_pc+1))]\n",
    "loadings_df = pd.DataFrame.from_dict(dict(zip(pc_list, loadings)))\n",
    "loadings_df['variable'] = temp_df.columns.values\n",
    "loadings_df = loadings_df.set_index('variable')\n",
    "\n",
    "ax = sns.heatmap(loadings_df, annot=True, cmap='Spectral')\n",
    "plt.show()"
   ]
  },
  {
   "cell_type": "markdown",
   "id": "52714822",
   "metadata": {},
   "source": [
    "## COMMENT/ANALYSIS\n",
    "\n",
    "##### (1) HEATMAP\n",
    "Pre-PCA Implementation.\n",
    "\n",
    "There is only 1 strong positive correlation, between Murder and Assault (0.8). The next highest positive correlation is between Assault and Rape (0.67), followed by Murder/Rape (0.56). The rest of the variables do not correlate strongly wth one another.\n",
    "\n",
    "The strong positive correlation between Murder and Assault could be because murder can be thought of as a specific kind of assault-an assault that leads to death. Similar logic can be applied to Assault/Rape. \n",
    "\n",
    "Regarding Assault/Rape, it could be that there is an under-reporting of rapes and the correlation between Assault/Rape could be stronger/higher value, closer to the positive correlation value between Assault/Murder. This could be because those cases reported as assaults-particularly cases reported by women-may actually be cases of rape, as women who have experienced the trauma of being raped may be reluctant to tell the authorities that they were raped. Instead, they report the incident as just a case of assault.   \n",
    "\n",
    "##### (2) BIPLOT & HEATMAP\n",
    "A loading plot shows how strongly each characteristic influences a principal component.\n",
    "\n",
    "Post-PCA Implementation, what stands out is the strong negative correlation between UrbanPop (percent of the population living in urban areas) and PC2, i.e. there higher percentage of people that live in urban areas, the less arrests. Also, there is a slight positive correlation between Assault and PC1, and similarly with Murder and Rape and PC1. On the other hand, there are weak correlations between UrbanPop and PC1, Asssault and PC2, and Rape and PC2. \n",
    "\n",
    "In summary, Rape, Assault, Murder have moderate influence over PC1, while UrbanPop has a big influence over PC2. This last point, particularly that UrbanPop is strongly negatively correlated with PC2, hints that the higher the percentage of people living in urban areas, the lower the crime rate. Whether this could be attributed to more concentrated law enforcement in urban areas, the corollary that urban-dwellers are thus disuaded from commiting these crimes as they risk more likely being caught, needs further investigation. \n",
    "\n",
    "##### (3) SCREE PLOT \n",
    "A scree plot displays how much variation each principal component captures from the data.\n",
    "\n",
    "The Scree plot shows that 2 components account for around 95% of the variance. So we can visualise the clusters by reducing the dimensions into 2 using PCA.\n",
    "\n",
    "##### (4) EIGENVALUES \n",
    "A good rule of thumb is that PCs with eigenvalues > 1 contributes greater variance and should be retained for further analysis.We see that PC1 and PC2 fit this criterion (at 2.53085875 1.00996444 respectively) and they should be retained.\n",
    "\n",
    "\n",
    "##### (5) Primary Component Analysis\n",
    "The cumulative variance shows that 95% of the variance is due to PC1, PC2, and PC3, with each accounting for around 62%, 25%, and 9% respectively. \n",
    "\n",
    "From the heatmap, we see strong positive correlation between PC3 and Rape, as well as strong negative correlation between PC2 and UrbanPop, and PC4 and Assault. \n"
   ]
  },
  {
   "cell_type": "markdown",
   "id": "64509150",
   "metadata": {},
   "source": [
    "# CLUSTERING I-HIERARCHICAL CLUSTERING"
   ]
  },
  {
   "cell_type": "code",
   "execution_count": 9,
   "id": "fab298ed",
   "metadata": {},
   "outputs": [
    {
     "data": {
      "image/png": "[encoded data removed]",
      "text/plain": [
       "<Figure size 432x288 with 1 Axes>"
      ]
     },
     "metadata": {
      "needs_background": "light"
     },
     "output_type": "display_data"
    }
   ],
   "source": [
    "plt.title(\"Complete linkage based Dendograms\")  \n",
    "dend = dendrogram(linkage(X, method='complete'))  "
   ]
  },
  {
   "cell_type": "code",
   "execution_count": 14,
   "id": "8495d17d",
   "metadata": {},
   "outputs": [
    {
     "name": "stdout",
     "output_type": "stream",
     "text": [
      "Silhouette Score:  0.369\n"
     ]
    },
    {
     "data": {
      "image/png": "[encoded data removed]",
      "text/plain": [
       "<Figure size 432x288 with 1 Axes>"
      ]
     },
     "metadata": {
      "needs_background": "light"
     },
     "output_type": "display_data"
    }
   ],
   "source": [
    "K = 3\n",
    "L = 'complete'\n",
    "\n",
    "cluster = AgglomerativeClustering(n_clusters=K, affinity='euclidean', linkage=L)\n",
    "cluster.fit_predict(X)\n",
    "plt.scatter(X[:,0], X[:,1], c=cluster.labels_)\n",
    "\n",
    "# GET SILHOUETTE SCORE\n",
    "score = round(silhouette_score(X, cluster.labels_),3)\n",
    "print(\"Silhouette Score: \",score)\n"
   ]
  },
  {
   "cell_type": "markdown",
   "id": "ac0d8069",
   "metadata": {},
   "source": [
    "### COMMENT/ANALYSIS\n",
    "\n",
    "Using complete linkage, the dendrogram shows that the clusters sizes are 10 (yellow), 21 (green), 11 (red), and 8 (purple). The complete linkage is appropriate as there is a good balance between the different coloured clusters. The shortest distance line-i.e. the most similar points-is between the numbers 24 and 28 in the yellow cluster, followed by 31 and 2 in the red cluster. Looking at the green and purple clusters, it appears that the threshold is 3, so we will set K = 3. \n",
    "\n",
    "With K = 3 and linkage = complete, we see that the purple cluster is virtually disctinct and separate from the other clusters. However, the yellow and blue clusters are not as separated from one another, clearly demonstrated by the overlap between them at specific places. The Silhouette Score (0.369) confirms that the clusters are somewhat distinct but overlapping is still evident. \n"
   ]
  },
  {
   "cell_type": "markdown",
   "id": "3d9403ff",
   "metadata": {},
   "source": [
    "# CLUSTERING II-K-MEANS"
   ]
  },
  {
   "cell_type": "code",
   "execution_count": 60,
   "id": "d8078bde",
   "metadata": {},
   "outputs": [
    {
     "name": "stdout",
     "output_type": "stream",
     "text": [
      "Silhouette Score:  0.31\n"
     ]
    },
    {
     "data": {
      "image/png": "[encoded data removed]",
      "text/plain": [
       "<Figure size 432x288 with 1 Axes>"
      ]
     },
     "metadata": {},
     "output_type": "display_data"
    }
   ],
   "source": [
    "kmeans = KMeans(n_clusters=3)\n",
    "kmeans.fit(X)\n",
    "y_kmeans = kmeans.predict(X)\n",
    "\n",
    "plt.scatter(X[:, 0], X[:, 1], c=y_kmeans, s=50, cmap='viridis')\n",
    "\n",
    "centers = kmeans.cluster_centers_\n",
    "plt.scatter(centers[:, 0], centers[:, 1], c='black', s=200, alpha=0.5);\n",
    "\n",
    "# Get accuracy of the model. \n",
    "score = round(silhouette_score(X, kmeans.labels_, metric='euclidean'),2)\n",
    "print(\"Silhouette Score: \",score)\n"
   ]
  },
  {
   "cell_type": "markdown",
   "id": "f73b1566",
   "metadata": {},
   "source": [
    "### COMMENT/ANALYSIS\n",
    "\n",
    "The K-means algorithm yielded worse results than the hierarchical/agglomerative clustering used above (Silhouette Score:  0.31 vs 0.369). While the topmost purple cluster is mostly distinct and separate from the other clusters, the blue and yellow clusters exhibit considerable overlap. The worse results could possibly be attributed to the limitations of k-means clustering (too much noise in the data, inability to deal with outliers, etc.) in addition to the data not being suitable for clustering.  "
   ]
  }
 ],
 "metadata": {
  "kernelspec": {
   "display_name": "Python 3 (ipykernel)",
   "language": "python",
   "name": "python3"
  },
  "language_info": {
   "codemirror_mode": {
    "name": "ipython",
    "version": 3
   },
   "file_extension": ".py",
   "mimetype": "text/x-python",
   "name": "python",
   "nbconvert_exporter": "python",
   "pygments_lexer": "ipython3",
   "version": "3.8.8"
  }
 },
 "nbformat": 4,
 "nbformat_minor": 5
}
